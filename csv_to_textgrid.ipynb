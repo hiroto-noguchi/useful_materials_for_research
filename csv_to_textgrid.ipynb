{
  "nbformat": 4,
  "nbformat_minor": 0,
  "metadata": {
    "colab": {
      "provenance": [],
      "authorship_tag": "ABX9TyP+ryNeQMzw+JmYDjekXluy",
      "include_colab_link": true
    },
    "kernelspec": {
      "name": "python3",
      "display_name": "Python 3"
    },
    "language_info": {
      "name": "python"
    }
  },
  "cells": [
    {
      "cell_type": "markdown",
      "metadata": {
        "id": "view-in-github",
        "colab_type": "text"
      },
      "source": [
        "<a href=\"https://colab.research.google.com/github/hiroto-noguchi/useful_materials_for_research/blob/main/csv_to_textgrid.ipynb\" target=\"_parent\"><img src=\"https://colab.research.google.com/assets/colab-badge.svg\" alt=\"Open In Colab\"/></a>"
      ]
    },
    {
      "cell_type": "markdown",
      "source": [
        "  使用手順\n",
        "  1. すべてのセルを実行する。\n",
        "  1. ダイアログからmm:ss形式の時刻（start, end, label列を含む）を持つCSVファイルをアップロードする。"
      ],
      "metadata": {
        "id": "KI9OpOhsV_Jy"
      }
    },
    {
      "cell_type": "code",
      "execution_count": null,
      "metadata": {
        "id": "IjKDiN-0RN9E"
      },
      "outputs": [],
      "source": [
        "!pip install tgt\n"
      ]
    },
    {
      "cell_type": "code",
      "source": [
        "import pandas as pd\n",
        "import os\n",
        "from google.colab import files\n",
        "import tgt\n",
        "\n",
        "def mmss_to_seconds(time_val):\n",
        "    \"\"\"\n",
        "    \"mm:ss\" 形式の文字列を秒数（float）に変換する関数です。\n",
        "    0落ち（例：\"1:30\" または \"01:30\"）にも対応します。\n",
        "    例: \"1:30\" -> 1*60 + 30 = 90秒\n",
        "    \"\"\"\n",
        "    # 万が一数値になっていたら文字列に変換\n",
        "    if not isinstance(time_val, str):\n",
        "        time_val = str(time_val)\n",
        "    parts = time_val.strip().split(\":\")\n",
        "    if len(parts) != 2:\n",
        "        raise ValueError(f\"時刻フォーマットが正しくありません: {time_val}\")\n",
        "    minutes, seconds = parts\n",
        "    return float(minutes) * 60 + float(seconds)\n",
        "\n",
        "def create_textgrid_from_dataframe(df, output_file, tier_name=\"Tier1\"):\n",
        "    \"\"\"\n",
        "    CSVファイルから読み込んだ DataFrame（'start', 'end', 'label' 列があることを前提）\n",
        "    から、TextGrid ファイルを作成する関数です。\n",
        "    もし最初の開始時刻が 0:00 でなければ、0:00～最初の開始時刻までの空白区間を追加します。\n",
        "    \"\"\"\n",
        "    # 文字列から秒数に変換\n",
        "    df[\"start\"] = df[\"start\"].apply(mmss_to_seconds)\n",
        "    df[\"end\"]   = df[\"end\"].apply(mmss_to_seconds)\n",
        "\n",
        "    # 開始時刻でソート\n",
        "    df = df.sort_values(by=\"start\")\n",
        "\n",
        "    # CSV上の最初の開始時刻と全体の終了時刻を取得\n",
        "    csv_global_start = df[\"start\"].min()\n",
        "    global_end = df[\"end\"].max()\n",
        "\n",
        "    # TextGridの全体開始時刻を0にするか、csvの最小値にするか判断\n",
        "    tier_start = 0 if csv_global_start > 0 else csv_global_start\n",
        "\n",
        "    # TextGrid オブジェクト生成\n",
        "    tg = tgt.TextGrid()\n",
        "    # IntervalTier の引数の順番は (start_time, end_time, name)\n",
        "    tier = tgt.IntervalTier(tier_start, global_end, tier_name)\n",
        "\n",
        "    # もしCSVの最初の開始時刻が0でなければ、0～csv_global_startまでの空白区間を追加\n",
        "    if csv_global_start > 0:\n",
        "        blank_interval = tgt.Interval(tier_start, csv_global_start, \"\")\n",
        "        tier.add_interval(blank_interval)\n",
        "\n",
        "    # CSVの各行のデータから Interval を作成して Tier に追加\n",
        "    for row in df.itertuples(index=False):\n",
        "        # 行ごとに start <= end になっているかチェック\n",
        "        if row.start > row.end:\n",
        "            print(f\"Warning: 行の start {row.start} が end {row.end} より大きいためスキップします。\")\n",
        "            continue\n",
        "        interval = tgt.Interval(row.start, row.end, row.label)\n",
        "        tier.add_interval(interval)\n",
        "\n",
        "    tg.add_tier(tier)\n",
        "    tgt.write_to_file(tg, output_file, format=\"short\")\n",
        "    print(f\"TextGridファイルを作成しました: {output_file}\")\n",
        "\n",
        "# CSV ファイルのアップロード\n",
        "uploaded = files.upload()\n",
        "\n",
        "if uploaded:\n",
        "    # アップロードされた CSV ファイル名を取得\n",
        "    csv_filename = list(uploaded.keys())[0]\n",
        "    print(f\"アップロードされたCSVファイル: {csv_filename}\")\n",
        "\n",
        "    # dtype=str とすることで、セル内容を文字列として読み込む\n",
        "    df = pd.read_csv(csv_filename, dtype=str)\n",
        "\n",
        "    # 前後の空白を除去\n",
        "    df[\"start\"] = df[\"start\"].str.strip()\n",
        "    df[\"end\"] = df[\"end\"].str.strip()\n",
        "    df[\"label\"] = df[\"label\"].str.strip()\n",
        "\n",
        "    # 入力ファイル名の拡張子だけを変更して出力ファイル名を生成（例: sample.csv -> sample.TextGrid）\n",
        "    base_name = os.path.splitext(csv_filename)[0]\n",
        "    output_filename = f\"{base_name}.TextGrid\"\n",
        "\n",
        "    create_textgrid_from_dataframe(df, output_filename)\n",
        "    files.download(output_filename)\n",
        "else:\n",
        "    print(\"ファイルがアップロードされていません。\")\n"
      ],
      "metadata": {
        "id": "7zx0H6ktRPQy"
      },
      "execution_count": null,
      "outputs": []
    }
  ]
}