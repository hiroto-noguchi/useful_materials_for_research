{
  "cells": [
    {
      "cell_type": "markdown",
      "metadata": {
        "id": "view-in-github",
        "colab_type": "text"
      },
      "source": [
        "<a href=\"https://colab.research.google.com/github/hiroto-noguchi/useful_materials_for_research/blob/main/julius_wrapper.ipynb\" target=\"_parent\"><img src=\"https://colab.research.google.com/assets/colab-badge.svg\" alt=\"Open In Colab\"/></a>"
      ]
    },
    {
      "cell_type": "markdown",
      "metadata": {
        "id": "1oTFutxjWyYv"
      },
      "source": [
        "使用手順\n",
        "\n",
        "1.   16kHzに変換したwavファイルとその内容をひらがなで書き起こしたtextファイルを用意する。拡張子以外は同名にする。\n",
        "1.   すべてのセルを実行する。\n",
        "1.   ダイアログからファイルをアップロードする。（スクリプトを書き換えられるなら、ドライブをマウントするほうが実行速度は速い。）\n",
        "1.   セグメント単位にしたい場合はy、モーラ単位にしたい場合はnを入力してEnterを押す。\n",
        "\n",
        "※サンプルファイルはGitHubページからダウンロード可。\n",
        "https://github.com/julius-speech/segmentation-kit/tree/master/wav"
      ]
    },
    {
      "cell_type": "code",
      "execution_count": null,
      "metadata": {
        "id": "DO3oH211jkra"
      },
      "outputs": [],
      "source": [
        "# このコードの下でファイルをアップロードする。\n",
        "\n",
        "!pip install PySegmentKit\n",
        "import google.colab.files as files\n",
        "import os\n",
        "\n",
        "# アップロードするファイルを選択する。\n",
        "files = files.upload()\n",
        "\n",
        "# アップロードされたファイルを1つのフォルダーにまとめる。\n",
        "# Create a folder named `my_folder`.\n",
        "if not os.path.exists(\"my_folder\"):\n",
        "  os.mkdir(\"my_folder\")\n",
        "\n",
        "# アップロードされたファイルを `my_folder` に移動させる。\n",
        "for f in files:\n",
        "  os.rename(f, os.path.join(\"my_folder\", f))\n"
      ]
    },
    {
      "cell_type": "code",
      "execution_count": null,
      "metadata": {
        "id": "q5nuwMGBZdZT"
      },
      "outputs": [],
      "source": [
        "# このコードの下でnかyを入力し、Enterを押す。\n",
        "\n",
        "from PySegmentKit import PySegmentKit, PSKError\n",
        "import os\n",
        "import google.colab\n",
        "\n",
        "# PySegmentKitの初期化する。\n",
        "sk = PySegmentKit(\"my_folder\",\n",
        "                  disable_silence_at_ends=False,\n",
        "                  leave_dict=False,\n",
        "                  debug=False,\n",
        "                  triphone=False,\n",
        "                  input_mfcc=False)\n",
        "\n",
        "try:\n",
        "    # セグメンテーションを実行する。\n",
        "    segmented = sk.segment()\n",
        "    for result in segmented.keys():\n",
        "        print(\"===== Segmentation Done =====\")\n",
        "except PSKError as e:\n",
        "    print(e)\n",
        "\n",
        "# TextGridConverterのリポジトリをクローンする。\n",
        "!git clone https://github.com/Syuparn/TextGridConverter\n",
        "\n",
        "# フォルダを移動する。\n",
        "!cd /content/my_folder\n",
        "\n",
        "# convert_label.pyが存在しない場合は、名前を変更して移動する。\n",
        "if not os.path.exists('/content/my_folder/convert_label.py'):\n",
        "    os.rename('/content/TextGridConverter/convert_label.py', '/content/my_folder/convert_label.py')\n",
        "\n",
        "# convert_label.pyを実行する。\n",
        "%run -i /content/my_folder/convert_label.py /content/my_folder\n",
        "\n",
        "!zip -r /content/my_folder.zip /content/my_folder\n",
        "\n",
        "google.colab.files.download('/content/my_folder.zip')"
      ]
    }
  ],
  "metadata": {
    "colab": {
      "provenance": [],
      "mount_file_id": "1eZOdY3xeBN_JxhGD_0RnaJ63cbRSWLRx",
      "authorship_tag": "ABX9TyOrSNRV6BnLIZXAgn/vieXc",
      "include_colab_link": true
    },
    "kernelspec": {
      "display_name": "Python 3",
      "name": "python3"
    },
    "language_info": {
      "name": "python"
    }
  },
  "nbformat": 4,
  "nbformat_minor": 0
}