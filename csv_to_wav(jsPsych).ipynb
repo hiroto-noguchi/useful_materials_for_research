{
  "nbformat": 4,
  "nbformat_minor": 0,
  "metadata": {
    "colab": {
      "provenance": [],
      "authorship_tag": "ABX9TyMucshMcl59ryaUa5H8ZFJp",
      "include_colab_link": true
    },
    "kernelspec": {
      "name": "python3",
      "display_name": "Python 3"
    },
    "language_info": {
      "name": "python"
    }
  },
  "cells": [
    {
      "cell_type": "markdown",
      "metadata": {
        "id": "view-in-github",
        "colab_type": "text"
      },
      "source": [
        "<a href=\"https://colab.research.google.com/github/hiroto-noguchi/useful_materials_for_research/blob/main/csv_to_wav(jsPsych).ipynb\" target=\"_parent\"><img src=\"https://colab.research.google.com/assets/colab-badge.svg\" alt=\"Open In Colab\"/></a>"
      ]
    },
    {
      "cell_type": "code",
      "execution_count": null,
      "metadata": {
        "id": "jJ1Y-hfuHUic"
      },
      "outputs": [],
      "source": [
        "# 1. 必要ライブラリのインストール\n",
        "!pip install pydub\n",
        "\n",
        "# 2. モジュールのインポート\n",
        "import io\n",
        "import base64\n",
        "import glob\n",
        "import os\n",
        "import pandas as pd\n",
        "from pydub import AudioSegment\n",
        "from google.colab import files  # Colab 限定\n",
        "\n",
        "# 3. CSV ファイルアップロード UI\n",
        "print(\"CSV ファイルをアップロードしてください（html-audio-response を含む）\")\n",
        "uploaded = files.upload()\n",
        "\n",
        "# 4. アップロードされた CSV を読み込む\n",
        "df = None\n",
        "for fname, content in uploaded.items():\n",
        "    if fname.lower().endswith('.csv'):\n",
        "        df = pd.read_csv(io.BytesIO(content))\n",
        "        print(f\"Loaded {fname} ({len(df)} rows)\")\n",
        "if df is None:\n",
        "    raise RuntimeError(\"CSV ファイルが見つかりませんでした。\")\n",
        "\n",
        "# 5. 出力ディレクトリの作成\n",
        "output_dir = '/content/audio_outputs'\n",
        "os.makedirs(output_dir, exist_ok=True)\n",
        "\n",
        "# 6. Base64 デコード関数\n",
        "def convert_snd(base64_str):\n",
        "    return base64.b64decode(base64_str)\n",
        "\n",
        "# 7. WebM → WAV 変換\n",
        "for row in df.itertuples():\n",
        "    if getattr(row, 'trial_type', '') == 'html-audio-response':\n",
        "        file_base = f\"{row.run_id}_{row.trial_index}\"\n",
        "        webm_path = os.path.join(output_dir, f\"{file_base}.webm\")\n",
        "        with open(webm_path, 'wb') as f:\n",
        "            f.write(convert_snd(row.response))\n",
        "        wav_path = os.path.join(output_dir, f\"{file_base}.wav\")\n",
        "        audio = AudioSegment.from_file(webm_path, format=\"webm\")\n",
        "        audio.export(wav_path, format=\"wav\")\n",
        "        print(f\"Exported {wav_path}\")\n",
        "\n",
        "# 8. WAV ファイルを自動ダウンロード\n",
        "wav_files = glob.glob(os.path.join(output_dir, '*.wav'))\n",
        "for wav in wav_files:\n",
        "    print(f\"Downloading {os.path.basename(wav)}...\")\n",
        "    files.download(wav)\n"
      ]
    }
  ]
}