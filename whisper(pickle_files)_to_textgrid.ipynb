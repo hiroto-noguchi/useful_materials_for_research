{
  "nbformat": 4,
  "nbformat_minor": 0,
  "metadata": {
    "colab": {
      "provenance": [],
      "authorship_tag": "ABX9TyMqOEvywaTLJULXZMtY1yyh",
      "include_colab_link": true
    },
    "kernelspec": {
      "name": "python3",
      "display_name": "Python 3"
    },
    "language_info": {
      "name": "python"
    }
  },
  "cells": [
    {
      "cell_type": "markdown",
      "metadata": {
        "id": "view-in-github",
        "colab_type": "text"
      },
      "source": [
        "<a href=\"https://colab.research.google.com/github/hiroto-noguchi/useful_materials_for_research/blob/main/whisper(pickle_files)_to_textgrid.ipynb\" target=\"_parent\"><img src=\"https://colab.research.google.com/assets/colab-badge.svg\" alt=\"Open In Colab\"/></a>"
      ]
    },
    {
      "cell_type": "markdown",
      "source": [
        "使用手順\n",
        "\n",
        "1. すべてのセルを実行する。\n",
        "1. ダイアログから（Whisperの書き起こし結果のpickle）ファイルをアップロードする。\n",
        "1. 複数ファイルのダウンロードに警告が出た場合は許可する。\n"
      ],
      "metadata": {
        "id": "KMdXfqVHIfR1"
      }
    },
    {
      "cell_type": "code",
      "source": [
        "! pip install tgt"
      ],
      "metadata": {
        "id": "z6uq-H_eGk3u"
      },
      "execution_count": null,
      "outputs": []
    },
    {
      "cell_type": "code",
      "execution_count": null,
      "metadata": {
        "id": "kFvxwGBWF18z"
      },
      "outputs": [],
      "source": [
        "from google.colab import files\n",
        "import pickle\n",
        "import tgt\n",
        "\n",
        "# Upload the necessary files\n",
        "uploaded = files.upload()\n",
        "\n",
        "# Process each uploaded pickle file\n",
        "for pickle_file_name in uploaded.keys():\n",
        "    if pickle_file_name.endswith('.pickle'):\n",
        "        # Load the Whisper transcription data\n",
        "        with open(pickle_file_name, 'rb') as file:\n",
        "            transcription_data = pickle.load(file)\n",
        "\n",
        "        # Create a TextGrid object\n",
        "        tg = tgt.TextGrid()\n",
        "\n",
        "        # Create a new interval tier\n",
        "        tier = tgt.IntervalTier(name=\"Transcription\", start_time=0)\n",
        "\n",
        "        # Populate the tier with intervals from the transcription data\n",
        "        for segment in transcription_data['segments']:\n",
        "            start_time = segment['start']\n",
        "            end_time = segment['end']\n",
        "            text = segment['text']\n",
        "            interval = tgt.Interval(start_time, end_time, text)\n",
        "            tier.add_interval(interval)\n",
        "\n",
        "        # Append the tier to the TextGrid object\n",
        "        tg.add_tier(tier)\n",
        "\n",
        "        # Save the TextGrid to a file with the same name as the pickle file but with a .TextGrid extension\n",
        "        output_file_name = pickle_file_name.replace('.pickle', '.TextGrid')\n",
        "        tgt.write_to_file(tg, output_file_name, format='long')\n",
        "\n",
        "        # Download the TextGrid file\n",
        "        files.download(output_file_name)"
      ]
    }
  ]
}